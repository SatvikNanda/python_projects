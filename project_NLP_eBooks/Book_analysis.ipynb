{
 "cells": [
  {
   "cell_type": "markdown",
   "id": "9d819cd1-daf6-4f90-b680-da5699ac6f6f",
   "metadata": {},
   "source": [
    "# Loading the book"
   ]
  },
  {
   "cell_type": "code",
   "execution_count": 5,
   "id": "4ea21a87-7fb7-45de-ab0b-507766f0c07b",
   "metadata": {},
   "outputs": [],
   "source": [
    "with open(\"miracle_in_the_andes.txt\", \"r\", encoding='UTF-8') as file:\n",
    "    book = file.read()"
   ]
  },
  {
   "cell_type": "code",
   "execution_count": 7,
   "id": "6e1d77f2-bd98-4618-9271-2aa6d1ddf618",
   "metadata": {},
   "outputs": [
    {
     "data": {
      "text/plain": [
       "str"
      ]
     },
     "execution_count": 7,
     "metadata": {},
     "output_type": "execute_result"
    }
   ],
   "source": [
    "type(book)"
   ]
  },
  {
   "cell_type": "markdown",
   "id": "cbfe30c1-1a9e-4afc-a466-4c92eacf5ad4",
   "metadata": {},
   "source": [
    "# How many chapters?"
   ]
  },
  {
   "cell_type": "markdown",
   "id": "5caf1904-64b6-471c-889a-52deec059f7a",
   "metadata": {},
   "source": [
    "### with string method"
   ]
  },
  {
   "cell_type": "code",
   "execution_count": 10,
   "id": "f890fbc0-1e1d-408c-95f9-6518a8dee6e8",
   "metadata": {},
   "outputs": [
    {
     "data": {
      "text/plain": [
       "11"
      ]
     },
     "execution_count": 10,
     "metadata": {},
     "output_type": "execute_result"
    }
   ],
   "source": [
    "book.count(\"Chapter\")"
   ]
  },
  {
   "cell_type": "markdown",
   "id": "71110cce-199c-4675-ab37-4e4993b52eaf",
   "metadata": {},
   "source": [
    "but we have only 10 chapters, the author used the word \"chapter\" in one of the chapters"
   ]
  },
  {
   "cell_type": "markdown",
   "id": "b1358007-56a9-4238-ae12-ae99eceb774d",
   "metadata": {},
   "source": [
    "### with regex"
   ]
  },
  {
   "cell_type": "code",
   "execution_count": 11,
   "id": "14478e38-8f7a-4f4b-9d41-3b01c2697dfe",
   "metadata": {},
   "outputs": [],
   "source": [
    "import re"
   ]
  },
  {
   "cell_type": "code",
   "execution_count": 17,
   "id": "0752ff01-c878-4464-b7cb-b7bf0b8e5ab5",
   "metadata": {},
   "outputs": [
    {
     "data": {
      "text/plain": [
       "['Chapter 1',\n",
       " 'Chapter 2',\n",
       " 'Chapter 3',\n",
       " 'Chapter 4',\n",
       " 'Chapter 5',\n",
       " 'Chapter 6',\n",
       " 'Chapter 7',\n",
       " 'Chapter 8',\n",
       " 'Chapter 9',\n",
       " 'Chapter 10']"
      ]
     },
     "execution_count": 17,
     "metadata": {},
     "output_type": "execute_result"
    }
   ],
   "source": [
    "pattern = re.compile(\"Chapter [0-9]+\")# '+' indicates that there might be more than 1 digit\n",
    "findings = re.findall(pattern, book) #arguments: what to look for, from where to look\n",
    "findings"
   ]
  },
  {
   "cell_type": "code",
   "execution_count": 18,
   "id": "8a509588-3db6-4cef-bb4a-6d5305fcad62",
   "metadata": {},
   "outputs": [
    {
     "data": {
      "text/plain": [
       "10"
      ]
     },
     "execution_count": 18,
     "metadata": {},
     "output_type": "execute_result"
    }
   ],
   "source": [
    "len(findings)"
   ]
  },
  {
   "cell_type": "markdown",
   "id": "f5ba1aec-bcc0-4567-ab39-955a7efdc1c2",
   "metadata": {},
   "source": [
    "# Sentences that used the word \"love\""
   ]
  },
  {
   "cell_type": "code",
   "execution_count": 34,
   "id": "fcf788d4-5f4e-4b6d-9dde-7e1bc0e571b5",
   "metadata": {
    "scrolled": true
   },
   "outputs": [
    {
     "data": {
      "text/plain": [
       "['As a young man, of course, I could not put these things into words, but I knew, and my teammates knew, that there was something special about the game, and under the guidance of the Christian Brothers we developed a passionate love for the sport that shaped our friendships and our lives.',\n",
       " 'Guido and I grew up together, playing soccer and sharing a love of motorcycles, cars, and auto racing.',\n",
       " 'Under the guidance of the Christian Brothers, both of us grew to love the game of rugby with a consuming passion.',\n",
       " 'That rowdiness came to an abrupt end for Guido in 1969, when he met and fell in love with the beautiful daughter of a Chilean diplomat.',\n",
       " 'I believe he had a great hunger for the love and comforts of a family that was happy and whole.',\n",
       " 'He shared, with my father and me, a love for cars and driving, and he loved going with us to auto races.',\n",
       " 'I could see much strength and depth in Panchito, in his loyalty as a friend to me, in the fiercely protective way he watched out for Susy, in the quiet respect he showed my parents, even in the affection with which he treated the servants at his father’s house, who loved him like a son.',\n",
       " 'The house had a beautiful view of the sea, and this more than anything made my mother love it.',\n",
       " 'She was a true tower of strength, but her strength was always based in warmth and love and because of her love and protection I grew up believing the world was a safe, familiar place.',\n",
       " 'He had given us a life of comfort and privilege such as his own father never could have imagined, he had provided for us and protected us in the best way he could, and though he was not an emotionally expressive man, he always showed his love for us subtly, quietly, and in ways that were true to the man he was.',\n",
       " 'I loved the gentle seriousness with which he shared his knowledge, and it made me feel close to him to know he thought I was a big enough boy to be trusted with this knowledge.',\n",
       " 'Out of love for his family he had arranged in his mind a future that would keep us all safe, happy, and always together.',\n",
       " 'Again and again I pleaded with them to give me some news of my loved ones, but my voice was just a whisper and it was easy for them to pretend they didn’t hear.',\n",
       " 'Susy had my mother’s strong, soft Ukrainian features, and she loved hearing about our family’s origins in Eastern Europe.',\n",
       " 'Susy shared my mother’s love for the closeness of family, but she was no stay-at-home girl.',\n",
       " 'She had many friends, she loved music and dancing and parties, and as much as she adored our home life in Montevideo, she always dreamed of seeing other places.',\n",
       " 'When she was sixteen she spent a year as an exchange student living with a family in Florida, an experience that taught her to love the U.',\n",
       " 'Take care of the people you love.',\n",
       " 'As I lay beside her, the sweetness of my love for her, for my lost friends and my family, for the suddenly fragile notion of my own life and future, swelled in my heart with an ache so profound it sapped all my strength, and for a moment I thought I would pass out.',\n",
       " 'I pressed my cheek against hers so I could feel her warm breath on my face, and held her that way all night, gently, but very close, never letting go, embracing her as if I were embracing all the love and peace and joy I had ever known and would ever know; as if by holding on tight I could keep everything precious from slipping away.',\n",
       " 'I felt my love for my father tugging at me like a lifeline, drawing me toward those barren slopes.',\n",
       " 'By morning all I felt was a sour, dull emptiness as my beloved Susy, like my mother and Panchito, drifted into my past, a past that was already beginning to feel distant and unreal.',\n",
       " 'In the days after Susy died, my love for my father was the only thing that kept me sane, and time after time I would calm myself by reaffirming the promise I had made at Susy’s grave: to return to him; to show him I had survived and to ease his suffering a little.',\n",
       " 'He was the strongest man I knew, but was he strong enough to endure this kind of loss? Would he keep his sanity? Would he lose all hope and his will to live? Sometimes my imagination got the best of me, and I worried that he might harm himself, choosing to end his suffering and join his loved ones in death.',\n",
       " 'Thinking of my father this way always triggered in me a burst of love so radiant and urgent that it took my breath away.',\n",
       " 'God loves us,” he would say.',\n",
       " 'Why would he let my mother and sister die so senselessly? If he loves us so much, why does He leave us here to suffer?”\\n\\n“You are angry at the God you were taught to believe in as a child,” Arturo answered.',\n",
       " 'I don’t pray to God for forgiveness or favors, I only pray to be closer to Him, and when I pray, I fill my heart with love.',\n",
       " 'When I pray this way, I know that God is love.',\n",
       " 'When I feel that love, I remember that we don’t need angels or a heaven, because we are a part of God already.',\n",
       " 'Bobby, are you warm enough? Do you want me to rub your feet?” She worried constantly about the children she had left at home, but still she had the courage and love to mother these frightened boys who were so far from their families.',\n",
       " 'They have given us a death sentence! Are you just going to wait here to die?” I was rummaging through the fuselage blindly, searching for anything—gloves, blankets, socks—that I thought would help me on the trek, when Marcelo spoke to me softly.',\n",
       " 'None of them wore gloves, and they had no blankets with them, but it was a clear day, winds were light, and the bright sun warmed us enough to make the mountain air bearable.',\n",
       " 'When I was in grade school, he was already a rugby standout for Stella Maris, and I loved watching him play.',\n",
       " 'It was our job to follow His commandments, to take the sacraments, to love God and to love others as Jesus had taught us.',\n",
       " 'I would think of him and let my heart fill with love for him, and this love would be stronger than my suffering, or my fear.',\n",
       " 'After two weeks on the mountain, my love for my father had taken on the irresistible power of a biological drive.',\n",
       " 'Even though he was a new friend for most of us, I believe Numa was the best loved man on the mountain.',\n",
       " 'Powered by such sturdy limbs and such natural belligerence, Roberto was more than a match for much larger opponents, and he loved nothing more than to lower his shoulder and send some oversized, would-be tackler flying.',\n",
       " 'Roberto loved rugby, but it didn’t cure his stubbornness as the Christian Brothers had hoped.',\n",
       " 'All we can do is love God and love others and trust in God’s will.',\n",
       " 'My beloved motorcycle, which my father had sold to a friend, was returned to me, and I wasted no time getting it on the road.',\n",
       " 'I can feel His love, Nando.',\n",
       " 'There’s so much love, I want to cry.',\n",
       " 'Even if we are trapped here forever, we can love our families, and God, and each other as long as we live.',\n",
       " 'You will tell my family that I love them, won’t you? That’s all that matters to me now.',\n",
       " 'But he lived so many lifetimes, had so many adventures, and, macho, he made love to so many beautiful girls.',\n",
       " 'They had stolen away our best friends and loved ones, forced us to face intolerable horrors, and changed us in ways that would take years to understand.',\n",
       " 'The shoes were magical for me because my mother had chosen them with such love for her grandson, and had handled them so tenderly on the plane.',\n",
       " 'We would sink beneath the snow, the ancient silence would fall over us, and our loved ones would never know how hard we had struggled to return to them.',\n",
       " 'My love for my father swelled in my heart, and I realized that, despite the hopelessness of my situation, the memory of him filled me with joy.',\n",
       " 'They could not crush my ability to love.',\n",
       " 'The opposite of death is love.',\n",
       " 'Only love can turn mere life into a miracle, and draw precious meaning from suffering and fear.',\n",
       " 'I would walk through the godforsaken country that separated me from my home with love and hope in my heart.',\n",
       " 'I’ve never been in love.',\n",
       " 'But still, still, I longed for the very things I knew I would never have—the love of a wife, a family of my own, a reunion with my grandmother and older sister, and always the embrace of my father.',\n",
       " 'My ordeal had simplified my mind and whittled me down very close to the essence of what I was, and now I saw that this longing, this love and affection for the very idea of my life, was a deeper part of me than hopelessness or fear or pain or hunger.',\n",
       " 'In seconds she was in my arms, and my heart swelled with love as I held her.',\n",
       " 'There was so much I wanted to tell him, that I had thought of him every moment, that his love had been the guiding light that led me to safety.',\n",
       " 'The papers called our return “The Christmas Miracle,” and many people were regarding us as almost mystical figures: young boys who had been saved by the direct intercession of God, living proof of His love.',\n",
       " 'I was happy for him, and for the others, but as I watched them sharing their joy with their loved ones, I realized that except for Javier, every one of my fellow survivors was returning to a life that was just as it had been before.',\n",
       " 'He sold his prized Mercedes and my mother’s beloved Rover.',\n",
       " 'Where should I begin? “I love it,” I said, finally.',\n",
       " 'I have loved racing since I was a kid.',\n",
       " 'One afternoon my friends and I were in the audience at the annual Miss Punta del Este beauty pageant, a prestigious event that draws the loveliest women from all across South America, watching as one breathtaking woman after another appeared in elegant evening dresses.',\n",
       " 'Now, here she was in Belgium, a few years older, no longer with Rafael, and looking even lovelier than I remembered.',\n",
       " 'I tried to be on my best behavior, but already I was madly in love, and it required all my effort to take my eyes off Veronique, and to remind myself there was anyone else in the room.',\n",
       " 'She stepped off the train with only a backpack and a small duffel, looking very beautiful, and I fell in love with her all over again.',\n",
       " 'The lessons I’d learned on the mountain prevented me from doing anything but choosing correctly; I would make a future with the woman I loved.',\n",
       " 'Until then, I had thought I could never love anything as much as I loved my wife, but when I gazed into my baby’s face, I was struck senseless by my love for her.',\n",
       " 'I loved changing her diapers, feeding her, bathing her, putting her to bed.',\n",
       " 'I felt a sudden, staggering sense of gratitude for the rich joys of my life—I had been given so much love and happiness—and I realized that every grueling step I had taken through that godforsaken wilderness was a step toward the tiny, precious miracle I held in my arms.',\n",
       " 'We are bonded by our suffering and our losses, but also by a great sense of mutual respect and, of course, a deep, unquestioned love.',\n",
       " 'Mostly, he saved me with his love.',\n",
       " 'He was never an openly affectionate man, but I never doubted his love when I was a boy.',\n",
       " 'It was quiet love, but solid and deep and enduring.',\n",
       " 'When I was in the mountains, stranded in the shadows of death, that love was like a safety line anchored in the world of the living.',\n",
       " 'As long as I held on to that love, I was not lost, I was connected to my home and to my future, and in the end it was that strong cord of love that led me out of danger.',\n",
       " 'He saved me simply by being the father I love.',\n",
       " 'There was love, the love in my heart, and for one incredible moment, as I felt this love swell—love for my father, for my future, for the simple wonder of being alive—death lost its power.',\n",
       " 'Instead, I made every step a step toward love, and that saved me.',\n",
       " 'I have never stopped moving toward love.',\n",
       " 'I love to travel.',\n",
       " 'I believe life should be enjoyed, but my experiences have taught me that without the love of my family and my friends, all the trappings of worldly success would ring hollow.',\n",
       " 'I also know that I would be a happy man if all those trappings were taken from me, as long as I am close to the people I love.',\n",
       " 'I savor them and let each one become a miniature eternity, and by living these small moments of my life so fully, I defy the shadow of death that hovers over all of us, I reaffirm my love and gratitude for all the gifts I’ve been given, and I fill myself more and more deeply with life.',\n",
       " 'It seemed to reach me through my own feelings of love, and I have often thought that when we feel what we call love, we are really feeling our connection to this awesome presence.',\n",
       " 'Instead, I imagine love, an ocean of love, the very source of love, and I imagine myself merging with it.',\n",
       " 'I open myself to it, I try to direct that tide of love toward the people who are close to me, hoping to protect them and bind them to me forever and connect us all to whatever there is in the world that is eternal.',\n",
       " 'In the mountains, it was love that kept me connected to the world of the living.',\n",
       " 'I had no expertise to draw on, so I relied upon the trust I felt in my love for my father and my future, and that trust led me home.',\n",
       " 'Now I am convinced that if there is something divine in the universe, the only way I will find it is through the love I feel for my family and my friends, and through the simple wonder of being alive.',\n",
       " 'I don’t need any other wisdom or philosophy than this: My duty is to fill my time on earth with as much life as possible, to become a little more human every day, and to understand that we only become human when we love.',\n",
       " 'I have tried to love my friends with a loyal and generous heart.',\n",
       " 'I have loved my children with all my strength.',\n",
       " 'And I have loved one woman and that has filled my life with meaning and joy.',\n",
       " 'I have suffered great losses and have been blessed with great consolations, but whatever life may give me or take away, this is the simple wisdom that will always light my life: I have loved, passionately, fearlessly, with all my heart and all my soul, and I have been loved in return.',\n",
       " 'We never thought, for a moment, about moving the bodies of our loved ones to a cemetery in the civilized world.']"
      ]
     },
     "execution_count": 34,
     "metadata": {},
     "output_type": "execute_result"
    }
   ],
   "source": [
    "pattern = re.compile(\"[A-Z]{1}[^.]*love[^.]*.\")\n",
    "findings = re.findall(pattern, book)\n",
    "findings"
   ]
  },
  {
   "cell_type": "code",
   "execution_count": 35,
   "id": "032e863d-842b-4435-88cd-7e89c364e53d",
   "metadata": {},
   "outputs": [
    {
     "data": {
      "text/plain": [
       "99"
      ]
     },
     "execution_count": 35,
     "metadata": {},
     "output_type": "execute_result"
    }
   ],
   "source": [
    "len(findings)"
   ]
  },
  {
   "cell_type": "markdown",
   "id": "dcd97c89-2d24-4dd3-9724-a126eff651f6",
   "metadata": {},
   "source": [
    "'+' means 1 or more<br>\n",
    "'*' means 0 or more<br>\n",
    "[A-Z]{1}: means the sentence is starting with a capital letter<br>\n",
    "[^.]: means anything but a full stop<br>"
   ]
  },
  {
   "cell_type": "markdown",
   "id": "d5bb0020-76cb-47c3-90f6-60ac71d342ea",
   "metadata": {},
   "source": [
    "we also covered words like \"loved\" or \"loving\" etc"
   ]
  },
  {
   "cell_type": "code",
   "execution_count": null,
   "id": "0797f00d-bffd-4984-8952-b2fc0d034844",
   "metadata": {},
   "outputs": [],
   "source": []
  }
 ],
 "metadata": {
  "kernelspec": {
   "display_name": "Python 3 (ipykernel)",
   "language": "python",
   "name": "python3"
  },
  "language_info": {
   "codemirror_mode": {
    "name": "ipython",
    "version": 3
   },
   "file_extension": ".py",
   "mimetype": "text/x-python",
   "name": "python",
   "nbconvert_exporter": "python",
   "pygments_lexer": "ipython3",
   "version": "3.12.3"
  }
 },
 "nbformat": 4,
 "nbformat_minor": 5
}
